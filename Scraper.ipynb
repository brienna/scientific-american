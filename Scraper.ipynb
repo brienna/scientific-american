{
 "cells": [
  {
   "cell_type": "markdown",
   "metadata": {},
   "source": [
    "# Scientific American\n",
    "\n",
    "Scrapes Scientific American site."
   ]
  },
  {
   "cell_type": "code",
   "execution_count": 3,
   "metadata": {},
   "outputs": [
    {
     "data": {
      "text/plain": [
       "['config.ini']"
      ]
     },
     "execution_count": 3,
     "metadata": {},
     "output_type": "execute_result"
    }
   ],
   "source": [
    "from selenium import webdriver\n",
    "from selenium.webdriver.common.by import By\n",
    "import configparser\n",
    "from selenium.webdriver.support.ui import WebDriverWait\n",
    "from selenium.webdriver.support import expected_conditions as EC\n",
    "import time\n",
    "\n",
    "configs = configparser.ConfigParser()\n",
    "configs.read('config.ini')"
   ]
  },
  {
   "cell_type": "markdown",
   "metadata": {},
   "source": [
    "Define scraping functions:"
   ]
  },
  {
   "cell_type": "code",
   "execution_count": 6,
   "metadata": {},
   "outputs": [],
   "source": [
    "def initialize(download_dir):\n",
    "    options = webdriver.ChromeOptions()\n",
    "    prefs = {'download.default_directory': download_dir,\n",
    "             'plugins.always_open_pdf_externally': True}\n",
    "    options.add_experimental_option('prefs', prefs)\n",
    "    return webdriver.Chrome(options=options, executable_path='../chromedriver')"
   ]
  },
  {
   "cell_type": "code",
   "execution_count": 22,
   "metadata": {
    "scrolled": true
   },
   "outputs": [],
   "source": [
    "# Initialize browser\n",
    "download_path = '/Volumes/ARCHIVES/GitHub/scientific-american/issues'\n",
    "browser = initialize(download_path)\n",
    "wait = WebDriverWait(browser, 15)\n",
    "\n",
    "# Navigate to page with search results\n",
    "current_url = 'https://www.scientificamerican.com/store/archive/?magazineFilterID=Scientific+American+Magazine'\n",
    "browser.get(current_url)\n",
    "\n",
    "# Log into my account \n",
    "signin_button_present = EC.presence_of_element_located((By.ID, 'signin-click'))\n",
    "wait.until(signin_button_present)\n",
    "signin_button = browser.find_element(By.ID, 'signin-click')\n",
    "signin_button.click()\n",
    "email_input = browser.find_element(By.ID, 'emailAddress1')\n",
    "password_input = browser.find_element(By.ID, 'password1')\n",
    "browser.execute_script('arguments[0].value = \"' + configs['SECRET']['EMAIL'] + '\";', email_input) \n",
    "browser.execute_script('arguments[0].value = \"' + configs['SECRET']['PASSWORD'] + '\";', password_input)\n",
    "login_button = browser.find_element(By.XPATH, '/html/body/div[4]/div/header/nav[1]/div/div[3]/ul/li[2]/section/form/button')\n",
    "time.sleep(2)\n",
    "login_button.click()\n",
    "signed_in = EC.invisibility_of_element_located((By.XPATH, '/html/body/div[4]/div/header/nav[1]/div/div[3]/ul/li[2]/section/form/button'))\n",
    "wait.until(signed_in)\n",
    "\n",
    "# Collect all download links on the current page\n",
    "download_links = []\n",
    "download_buttons = browser.find_elements_by_class_name('download')\n",
    "for btn in download_buttons:\n",
    "    download_links.append(btn.get_property('href'))\n",
    "\n",
    "browser.get(download_links[0])"
   ]
  },
  {
   "cell_type": "code",
   "execution_count": 19,
   "metadata": {
    "scrolled": true
   },
   "outputs": [],
   "source": []
  }
 ],
 "metadata": {
  "kernelspec": {
   "display_name": "Python 3",
   "language": "python",
   "name": "python3"
  },
  "language_info": {
   "codemirror_mode": {
    "name": "ipython",
    "version": 3
   },
   "file_extension": ".py",
   "mimetype": "text/x-python",
   "name": "python",
   "nbconvert_exporter": "python",
   "pygments_lexer": "ipython3",
   "version": "3.7.7"
  }
 },
 "nbformat": 4,
 "nbformat_minor": 4
}
