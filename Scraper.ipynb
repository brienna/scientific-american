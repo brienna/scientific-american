{
 "cells": [
  {
   "cell_type": "markdown",
   "metadata": {},
   "source": [
    "# Scientific American\n",
    "\n",
    "Scrapes Scientific American site."
   ]
  },
  {
   "cell_type": "code",
   "execution_count": 119,
   "metadata": {},
   "outputs": [
    {
     "data": {
      "text/plain": [
       "['../config.ini']"
      ]
     },
     "execution_count": 119,
     "metadata": {},
     "output_type": "execute_result"
    }
   ],
   "source": [
    "from selenium import webdriver\n",
    "from selenium.webdriver.common.by import By\n",
    "import configparser\n",
    "from selenium.webdriver.support.ui import WebDriverWait\n",
    "from selenium.webdriver.support import expected_conditions as EC\n",
    "from selenium.common.exceptions import NoSuchElementException\n",
    "import time\n",
    "import pandas as pd\n",
    "\n",
    "configs = configparser.ConfigParser()\n",
    "configs.read('../config.ini')"
   ]
  },
  {
   "cell_type": "markdown",
   "metadata": {},
   "source": [
    "## Define scraping functions:"
   ]
  },
  {
   "cell_type": "code",
   "execution_count": 129,
   "metadata": {},
   "outputs": [],
   "source": [
    "def initialize(download_dir):\n",
    "    options = webdriver.ChromeOptions()\n",
    "    prefs = {'download.default_directory': download_dir,\n",
    "             'plugins.always_open_pdf_externally': True}\n",
    "    options.add_experimental_option('prefs', prefs)\n",
    "    return webdriver.Chrome(options=options, executable_path='../chromedriver')\n",
    "\n",
    "def login(username, password):\n",
    "    signin_button_present = EC.presence_of_element_located((By.ID, 'signin-click'))\n",
    "    wait.until(signin_button_present)\n",
    "    signin_button = browser.find_element(By.ID, 'signin-click')\n",
    "    signin_button.click()\n",
    "    email_input = browser.find_element(By.ID, 'emailAddress1')\n",
    "    password_input = browser.find_element(By.ID, 'password1')\n",
    "    browser.execute_script('arguments[0].value = \"' + username, email_input) \n",
    "    browser.execute_script('arguments[0].value = \"' + password + '\";', password_input)\n",
    "    login_button = browser.find_element_by_class_name('signin-flyout__form__submit')\n",
    "    time.sleep(2)\n",
    "    login_button.click()\n",
    "    signed_in = EC.invisibility_of_element_located((By.CLASS_NAME, 'signin-flyout__form__loading'))\n",
    "    wait.until(signed_in)\n",
    "    \n",
    "def scrape_issue_links():    \n",
    "    # Grab all sections\n",
    "    sections = browser.find_elements_by_class_name('store-listing')\n",
    "    # For each section\n",
    "    for section in sections:\n",
    "        link = section.find_element_by_class_name('download').get_attribute('href')\n",
    "        date = section.find_element_by_class_name('store-listing__title').find_element_by_tag_name('a').text # usually date\n",
    "        if link in data['link']:\n",
    "            link_idx = data['link'].index(link)\n",
    "            data['comments'][link_idx] = date\n",
    "        else:\n",
    "            category = section.find_element_by_class_name('store-listing__category').text\n",
    "            data['link'].append(link) \n",
    "            data['date'].append(date)\n",
    "            data['category'].append(category)\n",
    "            data['comments'].append(None)\n",
    "            \n",
    "def scrape_ebook_links():\n",
    "    temporary_links =  [x.get_attribute('href') for x in browser.find_elements_by_class_name('store-listing__cta')]\n",
    "    for idx,tl in enumerate(temporary_links):\n",
    "        view_details = browser.get(tl)\n",
    "        title = browser.find_element_by_class_name('product-detail__title').text \n",
    "        data['title'].append(title)\n",
    "        try:\n",
    "            epub_link = browser.find_element_by_xpath('//*[contains(text(), \"Download Epub/Other\")]').get_attribute('href')\n",
    "            mobi_link = browser.find_element_by_xpath('//*[contains(text(), \"Download Mobi/Kindle\")]').get_attribute('href')\n",
    "            summary = browser.find_elements_by_class_name('product-detail__meta')[1].find_element_by_tag_name('p').text        \n",
    "            date = browser.find_elements_by_class_name('product-detail__meta')[1].text.split('On Sale Date: ')[1]\n",
    "            data['date'].append(date)\n",
    "            data['epub_link'].append(epub_link) \n",
    "            data['mobi_link'].append(mobi_link)\n",
    "            data['pdf_link'].append(None)\n",
    "            data['summary'].append(summary)\n",
    "        except NoSuchElementException:\n",
    "            print('NoSuchElementException...')\n",
    "            pdf_link = browser.find_element_by_xpath('//*[contains(text(), \"Download\")]').get_attribute('href')\n",
    "            summary = browser.find_element_by_class_name('product-detail__body').text\n",
    "            data['epub_link'].append(None) \n",
    "            data['mobi_link'].append(None)\n",
    "            data['pdf_link'].append(pdf_link)\n",
    "            data['summary'].append(summary)\n",
    "            data['date'].append(None)"
   ]
  },
  {
   "cell_type": "markdown",
   "metadata": {},
   "source": [
    "## Scrape download links for all issues."
   ]
  },
  {
   "cell_type": "markdown",
   "metadata": {},
   "source": [
    "Log into account."
   ]
  },
  {
   "cell_type": "code",
   "execution_count": 131,
   "metadata": {
    "scrolled": true
   },
   "outputs": [],
   "source": [
    "# Initialize browser\n",
    "download_path = '/Volumes/ARCHIVES/GitHub/scientific-american/issues'\n",
    "browser = initialize(download_path)\n",
    "wait = WebDriverWait(browser, 15)\n",
    "\n",
    "# Navigate to page with search results for issues\n",
    "current_url = 'https://www.scientificamerican.com/store/archive/?page=1'\n",
    "browser.get(current_url)\n",
    "\n",
    "# Log into my account \n",
    "login(configs['SCIAM']['EMAIL'] + '\";', configs['SCIAM']['PASSWORD'])"
   ]
  },
  {
   "cell_type": "markdown",
   "metadata": {},
   "source": [
    "### Collect download links for magazines. "
   ]
  },
  {
   "cell_type": "code",
   "execution_count": 19,
   "metadata": {},
   "outputs": [
    {
     "name": "stdout",
     "output_type": "stream",
     "text": [
      "Scraping page 1/441...\n",
      "Scraping page 2/441...\n"
     ]
    },
    {
     "ename": "KeyboardInterrupt",
     "evalue": "",
     "output_type": "error",
     "traceback": [
      "\u001b[0;31m---------------------------------------------------------------------------\u001b[0m",
      "\u001b[0;31mKeyboardInterrupt\u001b[0m                         Traceback (most recent call last)",
      "\u001b[0;32m<ipython-input-19-f1b9b9f50aa8>\u001b[0m in \u001b[0;36m<module>\u001b[0;34m\u001b[0m\n\u001b[1;32m     27\u001b[0m         \u001b[0mcurrent_page\u001b[0m \u001b[0;34m+=\u001b[0m \u001b[0;36m1\u001b[0m\u001b[0;34m\u001b[0m\u001b[0;34m\u001b[0m\u001b[0m\n\u001b[1;32m     28\u001b[0m         \u001b[0mpages_left\u001b[0m \u001b[0;34m-=\u001b[0m \u001b[0;36m1\u001b[0m\u001b[0;34m\u001b[0m\u001b[0;34m\u001b[0m\u001b[0m\n\u001b[0;32m---> 29\u001b[0;31m         \u001b[0mtime\u001b[0m\u001b[0;34m.\u001b[0m\u001b[0msleep\u001b[0m\u001b[0;34m(\u001b[0m\u001b[0;36m5\u001b[0m\u001b[0;34m)\u001b[0m \u001b[0;31m# according to robots.txt\u001b[0m\u001b[0;34m\u001b[0m\u001b[0;34m\u001b[0m\u001b[0m\n\u001b[0m\u001b[1;32m     30\u001b[0m     \u001b[0;32mexcept\u001b[0m \u001b[0mIndexError\u001b[0m\u001b[0;34m:\u001b[0m \u001b[0;31m# Your connection was interrupted.\u001b[0m\u001b[0;34m\u001b[0m\u001b[0;34m\u001b[0m\u001b[0m\n\u001b[1;32m     31\u001b[0m         \u001b[0mprint\u001b[0m\u001b[0;34m(\u001b[0m\u001b[0;34m'Connection interrupted, reconnecting...'\u001b[0m\u001b[0;34m)\u001b[0m\u001b[0;34m\u001b[0m\u001b[0;34m\u001b[0m\u001b[0m\n",
      "\u001b[0;31mKeyboardInterrupt\u001b[0m: "
     ]
    }
   ],
   "source": [
    "data = {'category': [], \n",
    "        'date': [],\n",
    "        'link': [],\n",
    "        'comments': []}\n",
    "\n",
    "# Collect all download links on the first page\n",
    "total_pages = int(browser.find_elements_by_class_name('pagination__nums__item')[-1].find_element_by_tag_name('a').text)\n",
    "pages_left = total_pages - 1\n",
    "current_page = 2\n",
    "print('Scraping page 1/' + str(total_pages) + '...')\n",
    "scrape_issue_links()\n",
    "\n",
    "# Paginate until the end, scraping all download links\n",
    "while pages_left > 0: \n",
    "    try: \n",
    "        browser.get('https://www.scientificamerican.com/store/archive/?page=' + str(current_page))\n",
    "        scrape_issue_links()\n",
    "        print('Scraping page ' + str(current_page) + '/' + str(total_pages) + '...')\n",
    "        current_total_pages = int(browser.find_elements_by_class_name('pagination__nums__item')[-1].find_element_by_tag_name('a').text)\n",
    "        if total_pages != current_total_pages:\n",
    "            print('Detected change in total pages.')\n",
    "            pages_left = current_total_pages - (total_pages - pages_left)\n",
    "            total_pages = current_total_pages\n",
    "        current_page += 1\n",
    "        pages_left -= 1\n",
    "        time.sleep(5) # according to robots.txt\n",
    "    except IndexError: # Your connection was interrupted. \n",
    "        print('Connection interrupted, reconnecting...')\n",
    "        continue"
   ]
  },
  {
   "cell_type": "markdown",
   "metadata": {},
   "source": [
    "Save magazine data."
   ]
  },
  {
   "cell_type": "code",
   "execution_count": 192,
   "metadata": {
    "scrolled": true
   },
   "outputs": [
    {
     "data": {
      "text/html": [
       "<div>\n",
       "<style scoped>\n",
       "    .dataframe tbody tr th:only-of-type {\n",
       "        vertical-align: middle;\n",
       "    }\n",
       "\n",
       "    .dataframe tbody tr th {\n",
       "        vertical-align: top;\n",
       "    }\n",
       "\n",
       "    .dataframe thead th {\n",
       "        text-align: right;\n",
       "    }\n",
       "</style>\n",
       "<table border=\"1\" class=\"dataframe\">\n",
       "  <thead>\n",
       "    <tr style=\"text-align: right;\">\n",
       "      <th></th>\n",
       "      <th>category</th>\n",
       "      <th>date</th>\n",
       "      <th>link</th>\n",
       "      <th>comments</th>\n",
       "    </tr>\n",
       "  </thead>\n",
       "  <tbody>\n",
       "    <tr>\n",
       "      <th>0</th>\n",
       "      <td>MIND</td>\n",
       "      <td>September 2020</td>\n",
       "      <td>https://www.scientificamerican.com/index.cfm/_...</td>\n",
       "      <td>None</td>\n",
       "    </tr>\n",
       "    <tr>\n",
       "      <th>1</th>\n",
       "      <td>SCIENTIFIC AMERICAN</td>\n",
       "      <td>September 2020</td>\n",
       "      <td>https://www.scientificamerican.com/index.cfm/_...</td>\n",
       "      <td>None</td>\n",
       "    </tr>\n",
       "    <tr>\n",
       "      <th>2</th>\n",
       "      <td>SA SPECIAL EDITIONS</td>\n",
       "      <td>Climate Change</td>\n",
       "      <td>https://www.scientificamerican.com/index.cfm/_...</td>\n",
       "      <td>None</td>\n",
       "    </tr>\n",
       "    <tr>\n",
       "      <th>3</th>\n",
       "      <td>SPACE &amp; PHYSICS</td>\n",
       "      <td>August 2020</td>\n",
       "      <td>https://www.scientificamerican.com/index.cfm/_...</td>\n",
       "      <td>None</td>\n",
       "    </tr>\n",
       "    <tr>\n",
       "      <th>4</th>\n",
       "      <td>SCIENTIFIC AMERICAN</td>\n",
       "      <td>August 2020</td>\n",
       "      <td>https://www.scientificamerican.com/index.cfm/_...</td>\n",
       "      <td>None</td>\n",
       "    </tr>\n",
       "    <tr>\n",
       "      <th>...</th>\n",
       "      <td>...</td>\n",
       "      <td>...</td>\n",
       "      <td>...</td>\n",
       "      <td>...</td>\n",
       "    </tr>\n",
       "    <tr>\n",
       "      <th>5275</th>\n",
       "      <td>SCIENTIFIC AMERICAN</td>\n",
       "      <td>September 25, 1845</td>\n",
       "      <td>https://www.scientificamerican.com/index.cfm/_...</td>\n",
       "      <td>None</td>\n",
       "    </tr>\n",
       "    <tr>\n",
       "      <th>5276</th>\n",
       "      <td>SCIENTIFIC AMERICAN</td>\n",
       "      <td>September 18, 1845</td>\n",
       "      <td>https://www.scientificamerican.com/index.cfm/_...</td>\n",
       "      <td>None</td>\n",
       "    </tr>\n",
       "    <tr>\n",
       "      <th>5277</th>\n",
       "      <td>SCIENTIFIC AMERICAN</td>\n",
       "      <td>September 11, 1845</td>\n",
       "      <td>https://www.scientificamerican.com/index.cfm/_...</td>\n",
       "      <td>None</td>\n",
       "    </tr>\n",
       "    <tr>\n",
       "      <th>5278</th>\n",
       "      <td>SCIENTIFIC AMERICAN</td>\n",
       "      <td>September 04, 1845</td>\n",
       "      <td>https://www.scientificamerican.com/index.cfm/_...</td>\n",
       "      <td>None</td>\n",
       "    </tr>\n",
       "    <tr>\n",
       "      <th>5279</th>\n",
       "      <td>SCIENTIFIC AMERICAN</td>\n",
       "      <td>August 28, 1845</td>\n",
       "      <td>https://www.scientificamerican.com/index.cfm/_...</td>\n",
       "      <td>None</td>\n",
       "    </tr>\n",
       "  </tbody>\n",
       "</table>\n",
       "<p>5280 rows × 4 columns</p>\n",
       "</div>"
      ],
      "text/plain": [
       "                 category                date  \\\n",
       "0                    MIND      September 2020   \n",
       "1     SCIENTIFIC AMERICAN      September 2020   \n",
       "2     SA SPECIAL EDITIONS      Climate Change   \n",
       "3         SPACE & PHYSICS         August 2020   \n",
       "4     SCIENTIFIC AMERICAN         August 2020   \n",
       "...                   ...                 ...   \n",
       "5275  SCIENTIFIC AMERICAN  September 25, 1845   \n",
       "5276  SCIENTIFIC AMERICAN  September 18, 1845   \n",
       "5277  SCIENTIFIC AMERICAN  September 11, 1845   \n",
       "5278  SCIENTIFIC AMERICAN  September 04, 1845   \n",
       "5279  SCIENTIFIC AMERICAN     August 28, 1845   \n",
       "\n",
       "                                                   link comments  \n",
       "0     https://www.scientificamerican.com/index.cfm/_...     None  \n",
       "1     https://www.scientificamerican.com/index.cfm/_...     None  \n",
       "2     https://www.scientificamerican.com/index.cfm/_...     None  \n",
       "3     https://www.scientificamerican.com/index.cfm/_...     None  \n",
       "4     https://www.scientificamerican.com/index.cfm/_...     None  \n",
       "...                                                 ...      ...  \n",
       "5275  https://www.scientificamerican.com/index.cfm/_...     None  \n",
       "5276  https://www.scientificamerican.com/index.cfm/_...     None  \n",
       "5277  https://www.scientificamerican.com/index.cfm/_...     None  \n",
       "5278  https://www.scientificamerican.com/index.cfm/_...     None  \n",
       "5279  https://www.scientificamerican.com/index.cfm/_...     None  \n",
       "\n",
       "[5280 rows x 4 columns]"
      ]
     },
     "execution_count": 192,
     "metadata": {},
     "output_type": "execute_result"
    }
   ],
   "source": [
    "data_df = pd.DataFrame(data)\n",
    "data_df.to_csv('issues.csv', index=False)"
   ]
  },
  {
   "cell_type": "code",
   "execution_count": 194,
   "metadata": {},
   "outputs": [],
   "source": [
    "data_df.to_csv('issues.csv', index=False)"
   ]
  },
  {
   "cell_type": "markdown",
   "metadata": {},
   "source": [
    "### Collect download links for ebooks."
   ]
  },
  {
   "cell_type": "code",
   "execution_count": 132,
   "metadata": {},
   "outputs": [
    {
     "name": "stdout",
     "output_type": "stream",
     "text": [
      "Scraping page 1/9...\n",
      "Scraping page 2/9...\n",
      "Scraping page 3/9...\n",
      "Scraping page 4/9...\n",
      "NoSuchElementException...\n",
      "Scraping page 5/9...\n",
      "Scraping page 6/9...\n",
      "Scraping page 7/9...\n",
      "Scraping page 8/9...\n",
      "NoSuchElementException...\n",
      "NoSuchElementException...\n",
      "NoSuchElementException...\n",
      "NoSuchElementException...\n",
      "NoSuchElementException...\n",
      "NoSuchElementException...\n",
      "NoSuchElementException...\n",
      "Scraping page 9/9...\n",
      "NoSuchElementException...\n",
      "NoSuchElementException...\n",
      "NoSuchElementException...\n",
      "NoSuchElementException...\n",
      "NoSuchElementException...\n",
      "NoSuchElementException...\n",
      "NoSuchElementException...\n",
      "NoSuchElementException...\n",
      "NoSuchElementException...\n",
      "NoSuchElementException...\n",
      "NoSuchElementException...\n",
      "NoSuchElementException...\n"
     ]
    }
   ],
   "source": [
    "# Set up data\n",
    "data = {'title': [], \n",
    "        'date': [],\n",
    "        'summary': [],\n",
    "        'pdf_link': [],\n",
    "        'epub_link': [],\n",
    "        'mobi_link': []}\n",
    "\n",
    "# Navigate to URL for ebooks\n",
    "current_url = 'https://www.scientificamerican.com/store/ebooks/'\n",
    "browser.get(current_url)\n",
    "\n",
    "# Collect all download links on the first page\n",
    "total_pages = int(browser.find_elements_by_class_name('pagination__nums__item')[-1].find_element_by_tag_name('a').text)\n",
    "pages_left = total_pages - 1\n",
    "current_page = 2\n",
    "print('Scraping page 1/' + str(total_pages) + '...')\n",
    "scrape_ebook_links()\n",
    "\n",
    "# Paginate until the end, scraping all download links\n",
    "while pages_left > 0: \n",
    "    try: \n",
    "        browser.get('https://www.scientificamerican.com/store/ebooks/?page=' + str(current_page))\n",
    "        current_total_pages = int(browser.find_elements_by_class_name('pagination__nums__item')[-1].find_element_by_tag_name('a').text)\n",
    "        print('Scraping page ' + str(current_page) + '/' + str(total_pages) + '...')\n",
    "        scrape_ebook_links()      \n",
    "        if total_pages != current_total_pages:\n",
    "            print('Detected change in total pages.')\n",
    "            pages_left = current_total_pages - (total_pages - pages_left)\n",
    "            total_pages = current_total_pages\n",
    "        current_page += 1\n",
    "        pages_left -= 1\n",
    "        time.sleep(5) # according to robots.txt\n",
    "    except IndexError: # Your connection was interrupted. \n",
    "        print('Connection interrupted, reconnecting...')\n",
    "        continue"
   ]
  },
  {
   "cell_type": "markdown",
   "metadata": {},
   "source": [
    "Save ebooks data."
   ]
  },
  {
   "cell_type": "code",
   "execution_count": 133,
   "metadata": {},
   "outputs": [
    {
     "data": {
      "text/html": [
       "<div>\n",
       "<style scoped>\n",
       "    .dataframe tbody tr th:only-of-type {\n",
       "        vertical-align: middle;\n",
       "    }\n",
       "\n",
       "    .dataframe tbody tr th {\n",
       "        vertical-align: top;\n",
       "    }\n",
       "\n",
       "    .dataframe thead th {\n",
       "        text-align: right;\n",
       "    }\n",
       "</style>\n",
       "<table border=\"1\" class=\"dataframe\">\n",
       "  <thead>\n",
       "    <tr style=\"text-align: right;\">\n",
       "      <th></th>\n",
       "      <th>title</th>\n",
       "      <th>date</th>\n",
       "      <th>summary</th>\n",
       "      <th>pdf_link</th>\n",
       "      <th>epub_link</th>\n",
       "      <th>mobi_link</th>\n",
       "    </tr>\n",
       "  </thead>\n",
       "  <tbody>\n",
       "    <tr>\n",
       "      <th>0</th>\n",
       "      <td>Hacking the Immune System</td>\n",
       "      <td>11/2/20</td>\n",
       "      <td>The immune system is a marvel, but sometimes t...</td>\n",
       "      <td>None</td>\n",
       "      <td>https://www.scientificamerican.com/index.cfm/_...</td>\n",
       "      <td>https://www.scientificamerican.com/index.cfm/_...</td>\n",
       "    </tr>\n",
       "    <tr>\n",
       "      <th>1</th>\n",
       "      <td>Technology vs. Truth: Deception in the Digital...</td>\n",
       "      <td>10/5/20</td>\n",
       "      <td>In the digital age, information, both true and...</td>\n",
       "      <td>None</td>\n",
       "      <td>https://www.scientificamerican.com/index.cfm/_...</td>\n",
       "      <td>https://www.scientificamerican.com/index.cfm/_...</td>\n",
       "    </tr>\n",
       "    <tr>\n",
       "      <th>2</th>\n",
       "      <td>Stressed Out: Causes, Effects and Keeping Calm</td>\n",
       "      <td>8/31/20</td>\n",
       "      <td>Chronic stress makes people sick. The fight-or...</td>\n",
       "      <td>None</td>\n",
       "      <td>https://www.scientificamerican.com/index.cfm/_...</td>\n",
       "      <td>https://www.scientificamerican.com/index.cfm/_...</td>\n",
       "    </tr>\n",
       "    <tr>\n",
       "      <th>3</th>\n",
       "      <td>Black Holes: Going to Extremes</td>\n",
       "      <td>8/3/20</td>\n",
       "      <td>Once dismissed as a mathematical curiosity, bl...</td>\n",
       "      <td>None</td>\n",
       "      <td>https://www.scientificamerican.com/index.cfm/_...</td>\n",
       "      <td>https://www.scientificamerican.com/index.cfm/_...</td>\n",
       "    </tr>\n",
       "    <tr>\n",
       "      <th>4</th>\n",
       "      <td>Quantum Universe</td>\n",
       "      <td>7/6/20</td>\n",
       "      <td>Strange and probabilistic, physics at the smal...</td>\n",
       "      <td>None</td>\n",
       "      <td>https://www.scientificamerican.com/index.cfm/_...</td>\n",
       "      <td>https://www.scientificamerican.com/index.cfm/_...</td>\n",
       "    </tr>\n",
       "    <tr>\n",
       "      <th>...</th>\n",
       "      <td>...</td>\n",
       "      <td>...</td>\n",
       "      <td>...</td>\n",
       "      <td>...</td>\n",
       "      <td>...</td>\n",
       "      <td>...</td>\n",
       "    </tr>\n",
       "    <tr>\n",
       "      <th>103</th>\n",
       "      <td>Nature Books and Arts Special: 2014. No 1</td>\n",
       "      <td>None</td>\n",
       "      <td>A collection of book reviews for the scientifi...</td>\n",
       "      <td>https://www.scientificamerican.com/index.cfm/_...</td>\n",
       "      <td>None</td>\n",
       "      <td>None</td>\n",
       "    </tr>\n",
       "    <tr>\n",
       "      <th>104</th>\n",
       "      <td>Books &amp; Arts Special 2015 No.1</td>\n",
       "      <td>None</td>\n",
       "      <td>In Nature’s first book reviews supplement for ...</td>\n",
       "      <td>https://www.scientificamerican.com/index.cfm/_...</td>\n",
       "      <td>None</td>\n",
       "      <td>None</td>\n",
       "    </tr>\n",
       "    <tr>\n",
       "      <th>105</th>\n",
       "      <td>Nature Collections: Stem Cells – Breaking Barr...</td>\n",
       "      <td>None</td>\n",
       "      <td>The most versatile of stem cells can be made f...</td>\n",
       "      <td>https://www.scientificamerican.com/index.cfm/_...</td>\n",
       "      <td>None</td>\n",
       "      <td>None</td>\n",
       "    </tr>\n",
       "    <tr>\n",
       "      <th>106</th>\n",
       "      <td>Nature Collections: Homo Floresiensis – the ‘h...</td>\n",
       "      <td>None</td>\n",
       "      <td>The remains of the tiny hominin Homo floresien...</td>\n",
       "      <td>https://www.scientificamerican.com/index.cfm/_...</td>\n",
       "      <td>None</td>\n",
       "      <td>None</td>\n",
       "    </tr>\n",
       "    <tr>\n",
       "      <th>107</th>\n",
       "      <td>Nature Collections: Year of Light</td>\n",
       "      <td>None</td>\n",
       "      <td>The United Nations has designated 2015 the Int...</td>\n",
       "      <td>https://www.scientificamerican.com/index.cfm/_...</td>\n",
       "      <td>None</td>\n",
       "      <td>None</td>\n",
       "    </tr>\n",
       "  </tbody>\n",
       "</table>\n",
       "<p>108 rows × 6 columns</p>\n",
       "</div>"
      ],
      "text/plain": [
       "                                                 title     date  \\\n",
       "0                            Hacking the Immune System  11/2/20   \n",
       "1    Technology vs. Truth: Deception in the Digital...  10/5/20   \n",
       "2       Stressed Out: Causes, Effects and Keeping Calm  8/31/20   \n",
       "3                       Black Holes: Going to Extremes   8/3/20   \n",
       "4                                     Quantum Universe   7/6/20   \n",
       "..                                                 ...      ...   \n",
       "103          Nature Books and Arts Special: 2014. No 1     None   \n",
       "104                     Books & Arts Special 2015 No.1     None   \n",
       "105  Nature Collections: Stem Cells – Breaking Barr...     None   \n",
       "106  Nature Collections: Homo Floresiensis – the ‘h...     None   \n",
       "107                  Nature Collections: Year of Light     None   \n",
       "\n",
       "                                               summary  \\\n",
       "0    The immune system is a marvel, but sometimes t...   \n",
       "1    In the digital age, information, both true and...   \n",
       "2    Chronic stress makes people sick. The fight-or...   \n",
       "3    Once dismissed as a mathematical curiosity, bl...   \n",
       "4    Strange and probabilistic, physics at the smal...   \n",
       "..                                                 ...   \n",
       "103  A collection of book reviews for the scientifi...   \n",
       "104  In Nature’s first book reviews supplement for ...   \n",
       "105  The most versatile of stem cells can be made f...   \n",
       "106  The remains of the tiny hominin Homo floresien...   \n",
       "107  The United Nations has designated 2015 the Int...   \n",
       "\n",
       "                                              pdf_link  \\\n",
       "0                                                 None   \n",
       "1                                                 None   \n",
       "2                                                 None   \n",
       "3                                                 None   \n",
       "4                                                 None   \n",
       "..                                                 ...   \n",
       "103  https://www.scientificamerican.com/index.cfm/_...   \n",
       "104  https://www.scientificamerican.com/index.cfm/_...   \n",
       "105  https://www.scientificamerican.com/index.cfm/_...   \n",
       "106  https://www.scientificamerican.com/index.cfm/_...   \n",
       "107  https://www.scientificamerican.com/index.cfm/_...   \n",
       "\n",
       "                                             epub_link  \\\n",
       "0    https://www.scientificamerican.com/index.cfm/_...   \n",
       "1    https://www.scientificamerican.com/index.cfm/_...   \n",
       "2    https://www.scientificamerican.com/index.cfm/_...   \n",
       "3    https://www.scientificamerican.com/index.cfm/_...   \n",
       "4    https://www.scientificamerican.com/index.cfm/_...   \n",
       "..                                                 ...   \n",
       "103                                               None   \n",
       "104                                               None   \n",
       "105                                               None   \n",
       "106                                               None   \n",
       "107                                               None   \n",
       "\n",
       "                                             mobi_link  \n",
       "0    https://www.scientificamerican.com/index.cfm/_...  \n",
       "1    https://www.scientificamerican.com/index.cfm/_...  \n",
       "2    https://www.scientificamerican.com/index.cfm/_...  \n",
       "3    https://www.scientificamerican.com/index.cfm/_...  \n",
       "4    https://www.scientificamerican.com/index.cfm/_...  \n",
       "..                                                 ...  \n",
       "103                                               None  \n",
       "104                                               None  \n",
       "105                                               None  \n",
       "106                                               None  \n",
       "107                                               None  \n",
       "\n",
       "[108 rows x 6 columns]"
      ]
     },
     "execution_count": 133,
     "metadata": {},
     "output_type": "execute_result"
    }
   ],
   "source": [
    "ebooks_df = pd.DataFrame(data)\n",
    "ebooks_df"
   ]
  },
  {
   "cell_type": "code",
   "execution_count": 134,
   "metadata": {},
   "outputs": [],
   "source": [
    "ebooks_df.to_csv('ebooks.csv', index=False)"
   ]
  },
  {
   "cell_type": "markdown",
   "metadata": {},
   "source": [
    "## Download all issues and ebooks."
   ]
  },
  {
   "cell_type": "markdown",
   "metadata": {},
   "source": [
    "Download ebooks."
   ]
  },
  {
   "cell_type": "code",
   "execution_count": null,
   "metadata": {},
   "outputs": [],
   "source": []
  },
  {
   "cell_type": "markdown",
   "metadata": {},
   "source": [
    "Download issues."
   ]
  },
  {
   "cell_type": "code",
   "execution_count": 71,
   "metadata": {
    "scrolled": true
   },
   "outputs": [
    {
     "name": "stdout",
     "output_type": "stream",
     "text": [
      "Scraped download links for 5283 issues.\n"
     ]
    },
    {
     "ename": "KeyboardInterrupt",
     "evalue": "",
     "output_type": "error",
     "traceback": [
      "\u001b[0;31m---------------------------------------------------------------------------\u001b[0m",
      "\u001b[0;31mKeyboardInterrupt\u001b[0m                         Traceback (most recent call last)",
      "\u001b[0;32m<ipython-input-71-74153d0fa6d8>\u001b[0m in \u001b[0;36m<module>\u001b[0;34m\u001b[0m\n\u001b[1;32m      2\u001b[0m \u001b[0;32mfor\u001b[0m \u001b[0mlink\u001b[0m \u001b[0;32min\u001b[0m \u001b[0mdownload_links\u001b[0m\u001b[0;34m:\u001b[0m\u001b[0;34m\u001b[0m\u001b[0;34m\u001b[0m\u001b[0m\n\u001b[1;32m      3\u001b[0m     \u001b[0mbrowser\u001b[0m\u001b[0;34m.\u001b[0m\u001b[0mget\u001b[0m\u001b[0;34m(\u001b[0m\u001b[0mlink\u001b[0m\u001b[0;34m)\u001b[0m\u001b[0;34m\u001b[0m\u001b[0;34m\u001b[0m\u001b[0m\n\u001b[0;32m----> 4\u001b[0;31m     \u001b[0mtime\u001b[0m\u001b[0;34m.\u001b[0m\u001b[0msleep\u001b[0m\u001b[0;34m(\u001b[0m\u001b[0;36m10\u001b[0m\u001b[0;34m)\u001b[0m \u001b[0;31m# so that we don't download too many at once\u001b[0m\u001b[0;34m\u001b[0m\u001b[0;34m\u001b[0m\u001b[0m\n\u001b[0m",
      "\u001b[0;31mKeyboardInterrupt\u001b[0m: "
     ]
    }
   ],
   "source": [
    "print('Scraped download links for ' + str(len(download_links)) + ' issues.')\n",
    "for link in download_links:\n",
    "    browser.get(link)\n",
    "    time.sleep(10) # so that we don't download too many at once"
   ]
  },
  {
   "cell_type": "markdown",
   "metadata": {},
   "source": [
    "## Verify scraper is working properly (delete later)"
   ]
  },
  {
   "cell_type": "code",
   "execution_count": 161,
   "metadata": {},
   "outputs": [
    {
     "data": {
      "text/plain": [
       "0       False\n",
       "1       False\n",
       "2       False\n",
       "3       False\n",
       "4       False\n",
       "        ...  \n",
       "5267    False\n",
       "5268    False\n",
       "5269    False\n",
       "5270    False\n",
       "5271    False\n",
       "Name: link, Length: 5272, dtype: bool"
      ]
     },
     "execution_count": 161,
     "metadata": {},
     "output_type": "execute_result"
    }
   ],
   "source": [
    "data_df['link'].duplicated()"
   ]
  },
  {
   "cell_type": "code",
   "execution_count": 84,
   "metadata": {
    "scrolled": true
   },
   "outputs": [
    {
     "name": "stdout",
     "output_type": "stream",
     "text": [
      "https://www.scientificamerican.com/index.cfm/_api/render/file/?method=inline&amp;fileID=ABF5DC40-BF47-4CEB-9FCC5BA0EA567959\n",
      "4\n",
      "https://www.scientificamerican.com/index.cfm/_api/render/file/?method=inline&amp;fileID=ABF5DC40-BF47-4CEB-9FCC5BA0EA567959\n",
      "12\n"
     ]
    }
   ],
   "source": [
    "for x, i in enumerate(download_links):\n",
    "    if i == 'https://www.scientificamerican.com/index.cfm/_api/render/file/?method=inline&amp;fileID=ABF5DC40-BF47-4CEB-9FCC5BA0EA567959':\n",
    "        print(i)\n",
    "        print(x)"
   ]
  },
  {
   "cell_type": "markdown",
   "metadata": {},
   "source": [
    "Data fields:\n",
    "- Publication name\n",
    "- Date\n",
    "- Link \n",
    "- Comments\n",
    "\n",
    "If the link already exists in the database, then add a comment to the comments list to the previous link and skip adding the current link. For example, the March 31, 1917 issue appears twice for downloading, as the March 31, 1917 issue and the WW1 Anniversary Issue. "
   ]
  },
  {
   "cell_type": "code",
   "execution_count": 168,
   "metadata": {},
   "outputs": [
    {
     "data": {
      "text/plain": [
       "October 2019              1\n",
       "January 2020              1\n",
       "WW1 Anniversary Issu..    1\n",
       "December 2019             1\n",
       "Scientific American ..    1\n",
       "November 2019             1\n",
       "April 2020                1\n",
       "March 2020                1\n",
       "January 1959              1\n",
       "February 2020             1\n",
       "May 2020                  1\n",
       "Name: comments, dtype: int64"
      ]
     },
     "execution_count": 168,
     "metadata": {},
     "output_type": "execute_result"
    }
   ],
   "source": [
    "data_df['comments'].value_counts()"
   ]
  },
  {
   "cell_type": "code",
   "execution_count": 188,
   "metadata": {},
   "outputs": [
    {
     "data": {
      "text/html": [
       "<div>\n",
       "<style scoped>\n",
       "    .dataframe tbody tr th:only-of-type {\n",
       "        vertical-align: middle;\n",
       "    }\n",
       "\n",
       "    .dataframe tbody tr th {\n",
       "        vertical-align: top;\n",
       "    }\n",
       "\n",
       "    .dataframe thead th {\n",
       "        text-align: right;\n",
       "    }\n",
       "</style>\n",
       "<table border=\"1\" class=\"dataframe\">\n",
       "  <thead>\n",
       "    <tr style=\"text-align: right;\">\n",
       "      <th></th>\n",
       "      <th>category</th>\n",
       "      <th>date</th>\n",
       "      <th>link</th>\n",
       "      <th>comments</th>\n",
       "    </tr>\n",
       "  </thead>\n",
       "  <tbody>\n",
       "  </tbody>\n",
       "</table>\n",
       "</div>"
      ],
      "text/plain": [
       "Empty DataFrame\n",
       "Columns: [category, date, link, comments]\n",
       "Index: []"
      ]
     },
     "execution_count": 188,
     "metadata": {},
     "output_type": "execute_result"
    }
   ],
   "source": [
    "data_df[data_df['category'].str.contains('Quantum')]"
   ]
  },
  {
   "cell_type": "code",
   "execution_count": 12,
   "metadata": {},
   "outputs": [],
   "source": [
    "data_df = pd.read_csv('data.csv')"
   ]
  },
  {
   "cell_type": "code",
   "execution_count": 108,
   "metadata": {},
   "outputs": [
    {
     "data": {
      "text/plain": [
       "0     None\n",
       "1     None\n",
       "2     None\n",
       "3     None\n",
       "4     None\n",
       "5     None\n",
       "6     None\n",
       "7     None\n",
       "8     None\n",
       "9     None\n",
       "10    None\n",
       "11    None\n",
       "12    None\n",
       "13    None\n",
       "14    None\n",
       "15    None\n",
       "16    None\n",
       "17    None\n",
       "18    None\n",
       "19    None\n",
       "20    None\n",
       "21    None\n",
       "22    None\n",
       "23    None\n",
       "24    None\n",
       "25    None\n",
       "26    None\n",
       "27    None\n",
       "28    None\n",
       "29    None\n",
       "30    None\n",
       "31    None\n",
       "32    None\n",
       "33    None\n",
       "34    None\n",
       "35    None\n",
       "36    None\n",
       "37    None\n",
       "38    None\n",
       "39    None\n",
       "40    None\n",
       "41    None\n",
       "42    None\n",
       "43    None\n",
       "44    None\n",
       "45    None\n",
       "46    None\n",
       "47    None\n",
       "48    None\n",
       "49    None\n",
       "50    None\n",
       "51    None\n",
       "52    None\n",
       "53    None\n",
       "54    None\n",
       "55    None\n",
       "Name: pdf_link, dtype: object"
      ]
     },
     "execution_count": 108,
     "metadata": {},
     "output_type": "execute_result"
    }
   ],
   "source": [
    "pd.DataFrame(data)['pdf_link']"
   ]
  }
 ],
 "metadata": {
  "kernelspec": {
   "display_name": "Python 3",
   "language": "python",
   "name": "python3"
  },
  "language_info": {
   "codemirror_mode": {
    "name": "ipython",
    "version": 3
   },
   "file_extension": ".py",
   "mimetype": "text/x-python",
   "name": "python",
   "nbconvert_exporter": "python",
   "pygments_lexer": "ipython3",
   "version": "3.7.7"
  }
 },
 "nbformat": 4,
 "nbformat_minor": 4
}
